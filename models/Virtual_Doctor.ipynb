{
 "cells": [
  {
   "cell_type": "code",
   "execution_count": 1,
   "id": "3894718f-da3f-4e8e-ad4f-d6e00e2e18ac",
   "metadata": {},
   "source": [
    "import pandas as pd"
   ],
   "outputs": []
  },
  {
   "cell_type": "code",
   "execution_count": 2,
   "id": "3b590b15-5ddf-47a3-b4a1-518b08461a60",
   "metadata": {},
   "source": [
    "df=pd.read_csv(\"Datasets_VD/Training.csv\")"
   ],
   "outputs": []
  },
  {
   "cell_type": "code",
   "execution_count": 3,
   "id": "125eeff7-7442-4f41-8fce-539a52126fe1",
   "metadata": {},
   "source": [
    "df.head()"
   ],
   "outputs": []
  },
  {
   "cell_type": "code",
   "execution_count": 6,
   "id": "d4182d4d-98f3-4fb7-b9e3-b33263ff7343",
   "metadata": {},
   "source": [
    "df.shape"
   ],
   "outputs": []
  },
  {
   "cell_type": "code",
   "execution_count": 7,
   "id": "2bc5a256-cd90-48cb-9465-468b2332fbd1",
   "metadata": {},
   "source": [
    "len(df['prognosis'].unique())"
   ],
   "outputs": []
  },
  {
   "cell_type": "code",
   "execution_count": 8,
   "id": "90439117-0dd1-4183-8579-85ddbddf05d9",
   "metadata": {},
   "source": [
    "df['prognosis'].unique()"
   ],
   "outputs": []
  },
  {
   "cell_type": "markdown",
   "id": "389b9bc9-4c05-436a-b789-48155bc94095",
   "metadata": {},
   "source": [
    "Train Test Split"
   ]
  },
  {
   "cell_type": "code",
   "execution_count": 10,
   "id": "3c760e57-466b-4cfb-b2cb-5702109ab073",
   "metadata": {},
   "source": [
    "from sklearn.model_selection import train_test_split\n",
    "from sklearn.preprocessing import LabelEncoder"
   ],
   "outputs": []
  },
  {
   "cell_type": "code",
   "execution_count": 15,
   "id": "eb98457f-a96d-460e-9e34-6d4d4b5647a0",
   "metadata": {},
   "source": [
    "X=df.drop(\"prognosis\",axis=1)\n",
    "y=df['prognosis']\n",
    "y"
   ],
   "outputs": []
  },
  {
   "cell_type": "code",
   "execution_count": 18,
   "id": "12e48f2a-cd96-407d-a4f9-06f5987822d0",
   "metadata": {},
   "source": [
    "le=LabelEncoder()\n",
    "le.fit(y)\n",
    "Y=le.transform(y)"
   ],
   "outputs": []
  },
  {
   "cell_type": "code",
   "execution_count": 19,
   "id": "568f4e30-5d90-464e-9f72-3da3e5177eb9",
   "metadata": {},
   "source": [
    "Y"
   ],
   "outputs": []
  },
  {
   "cell_type": "code",
   "execution_count": 20,
   "id": "636b5485-7efd-43aa-8376-e6b63948dce7",
   "metadata": {},
   "source": [
    "X_train,X_test,y_train,y_test=train_test_split(X,Y,test_size=0.3,random_state=20)"
   ],
   "outputs": []
  },
  {
   "cell_type": "code",
   "execution_count": 21,
   "id": "c9ea59fa-d3b6-43cf-b5f1-4628f243427c",
   "metadata": {},
   "source": [
    "X_train.shape,X_test.shape,y_train.shape,y_test.shape"
   ],
   "outputs": []
  },
  {
   "cell_type": "raw",
   "id": "cfa54e9c-11cf-4bb7-80d7-4959d97924ff",
   "metadata": {},
   "source": [
    "Training Top Models"
   ]
  },
  {
   "cell_type": "code",
   "execution_count": 30,
   "id": "f512f9a0-c66c-4b29-bd45-52e2d4478a84",
   "metadata": {},
   "source": [
    "from sklearn.datasets import make_classification\n",
    "from sklearn.svm import SVC\n",
    "from sklearn.ensemble import RandomForestClassifier,GradientBoostingClassifier\n",
    "from sklearn.neighbors import KNeighborsClassifier\n",
    "from sklearn.naive_bayes import MultinomialNB\n",
    "\n",
    "from sklearn.metrics import accuracy_score,confusion_matrix\n",
    "import numpy as np\n",
    "\n",
    "#created a dictionary to store models\n",
    "models={\n",
    "    \"SVC\":SVC(kernel='linear'),\n",
    "    \"RandomForest\":RandomForestClassifier(n_estimators=100,random_state=42),\n",
    "    \"GradientBoosting\":GradientBoostingClassifier(n_estimators=100,random_state=42),\n",
    "    'Kneighbors':KNeighborsClassifier(n_neighbors=5),\n",
    "    'MultinomialNB':MultinomialNB()\n",
    "}\n",
    "for model_name,model in models.items():\n",
    "    #train_model\n",
    "    model.fit(X_train,y_train)\n",
    "\n",
    "    #test_model\n",
    "    predictions=model.predict(X_test)\n",
    "\n",
    "    #calculate accuracy\n",
    "    accuracy=accuracy_score(y_test,predictions)\n",
    "\n",
    "    #caluculate confusion matrix\n",
    "    cm=confusion_matrix(y_test,predictions)\n",
    "\n",
    "    print(f\"{model_name} accuracy : {accuracy}\")\n",
    "    print(f\"{model_name} Confusion Matrix :\")\n",
    "    print(np.array2string(cm,separator=','))"
   ],
   "outputs": []
  },
  {
   "cell_type": "markdown",
   "id": "cd46fa57-3688-489f-87bc-0bc70e3c7f7a",
   "metadata": {},
   "source": [
    "Single Prediction to test model"
   ]
  },
  {
   "cell_type": "code",
   "execution_count": 31,
   "id": "99ba7ab3-5601-4b49-b5d3-0f2d899204d1",
   "metadata": {},
   "source": [
    "svc=SVC(kernel='linear')\n",
    "svc.fit(X_train,y_train)\n",
    "ypred=svc.predict(X_test)\n",
    "accuracy_score(y_test,ypred)"
   ],
   "outputs": []
  },
  {
   "cell_type": "code",
   "execution_count": 34,
   "id": "2f2aae42-fbb3-4cb9-b1c2-6a51d3b67a6e",
   "metadata": {},
   "source": [
    "#Saving the model\n",
    "import pickle\n",
    "#pickle.dump(svc,open(\"svc.pkl\",'wb'))"
   ],
   "outputs": []
  },
  {
   "cell_type": "code",
   "execution_count": 35,
   "id": "0e9acd42-847b-4b2a-a98a-758d945ff998",
   "metadata": {},
   "source": [
    "#load model\n",
    "svc=pickle.load(open(\"svc.pkl\",'rb'))"
   ],
   "outputs": []
  },
  {
   "cell_type": "code",
   "execution_count": 36,
   "id": "46198f45-749e-4fcc-9157-c53f81bf919a",
   "metadata": {},
   "source": [
    "X_test"
   ],
   "outputs": []
  },
  {
   "cell_type": "code",
   "execution_count": 38,
   "id": "63810e16-2393-4cf6-a20f-0ac0de664e93",
   "metadata": {},
   "source": [
    "X_test.iloc[0].values.reshape(1,-1)"
   ],
   "outputs": []
  },
  {
   "cell_type": "code",
   "execution_count": 39,
   "id": "fc7fd968-bdc6-4730-8a4a-eea8d6e3ae0b",
   "metadata": {},
   "source": [
    "svc.predict(X_test.iloc[0].values.reshape(1,-1))"
   ],
   "outputs": []
  },
  {
   "cell_type": "code",
   "execution_count": 41,
   "id": "3cd5c430-7683-4404-b87c-38014ba4c6aa",
   "metadata": {},
   "source": [
    "y_test[0]"
   ],
   "outputs": []
  },
  {
   "cell_type": "code",
   "execution_count": 42,
   "id": "811ba5ad-c9bc-45cd-98c9-b167c1c338b0",
   "metadata": {},
   "source": [
    "#test 1\n",
    "print(\"Predicted Label :\",svc.predict(X_test.iloc[0].values.reshape(1,-1)))\n",
    "print(\"Actual Label :\",y_test[0])"
   ],
   "outputs": []
  },
  {
   "cell_type": "code",
   "execution_count": 43,
   "id": "cc7d565a-7567-47f3-a2e2-d363a3a87c22",
   "metadata": {},
   "source": [
    "#test 2\n",
    "print(\"Predicted Label :\",svc.predict(X_test.iloc[10].values.reshape(1,-1)))\n",
    "print(\"Actual Label :\",y_test[10])"
   ],
   "outputs": []
  },
  {
   "cell_type": "markdown",
   "id": "53f7a2c2-08bf-4027-9b45-fc77389276de",
   "metadata": {},
   "source": [
    "Recommend system\n",
    "loaded database and use logic for recommendations"
   ]
  },
  {
   "cell_type": "code",
   "execution_count": 52,
   "id": "7a5d29f1-176d-413e-b96a-7ec444c2e1d0",
   "metadata": {},
   "source": [
    "sym_des=pd.read_csv('Datasets_VD/symtoms_df.csv')\n",
    "precautions=pd.read_csv('Datasets_VD/precautions_df.csv')\n",
    "workout=pd.read_csv('Datasets_VD/workout_df.csv')\n",
    "description=pd.read_csv('Datasets_VD/description.csv')\n",
    "medications=pd.read_csv('Datasets_VD/medications.csv')\n",
    "diets=pd.read_csv('Datasets_VD/diets.csv')"
   ],
   "outputs": []
  },
  {
   "cell_type": "code",
   "execution_count": 54,
   "id": "15c1c124-cea0-4c75-bac8-c674a132644b",
   "metadata": {},
   "source": [],
   "outputs": []
  },
  {
   "cell_type": "code",
   "execution_count": 55,
   "id": "7e09b7f5-ddc1-4816-89f1-41a9cf13190c",
   "metadata": {},
   "source": [
    "#============================================================\n",
    "# custome and helping functions\n",
    "#==========================helper funtions================\n",
    "def helper(dis):\n",
    "    desc = description[description['Disease'] == predicted_disease]['Description']\n",
    "    desc = \" \".join([w for w in desc])\n",
    "\n",
    "    pre = precautions[precautions['Disease'] == dis][['Precaution_1', 'Precaution_2', 'Precaution_3', 'Precaution_4']]\n",
    "    pre = [col for col in pre.values]\n",
    "\n",
    "    med = medications[medications['Disease'] == dis]['Medication']\n",
    "    med = [med for med in med.values]\n",
    "\n",
    "    die = diets[diets['Disease'] == dis]['Diet']\n",
    "    die = [die for die in die.values]\n",
    "\n",
    "    wrkout = workout[workout['disease'] == dis] ['workout']\n",
    "\n",
    "\n",
    "    return desc,pre,med,die,wrkout\n",
    "\n",
    "symptoms_dict = {'itching': 0, 'skin_rash': 1, 'nodal_skin_eruptions': 2, 'continuous_sneezing': 3, 'shivering': 4, 'chills': 5, 'joint_pain': 6, 'stomach_pain': 7, 'acidity': 8, 'ulcers_on_tongue': 9, 'muscle_wasting': 10, 'vomiting': 11, 'burning_micturition': 12, 'spotting_ urination': 13, 'fatigue': 14, 'weight_gain': 15, 'anxiety': 16, 'cold_hands_and_feets': 17, 'mood_swings': 18, 'weight_loss': 19, 'restlessness': 20, 'lethargy': 21, 'patches_in_throat': 22, 'irregular_sugar_level': 23, 'cough': 24, 'high_fever': 25, 'sunken_eyes': 26, 'breathlessness': 27, 'sweating': 28, 'dehydration': 29, 'indigestion': 30, 'headache': 31, 'yellowish_skin': 32, 'dark_urine': 33, 'nausea': 34, 'loss_of_appetite': 35, 'pain_behind_the_eyes': 36, 'back_pain': 37, 'constipation': 38, 'abdominal_pain': 39, 'diarrhoea': 40, 'mild_fever': 41, 'yellow_urine': 42, 'yellowing_of_eyes': 43, 'acute_liver_failure': 44, 'fluid_overload': 45, 'swelling_of_stomach': 46, 'swelled_lymph_nodes': 47, 'malaise': 48, 'blurred_and_distorted_vision': 49, 'phlegm': 50, 'throat_irritation': 51, 'redness_of_eyes': 52, 'sinus_pressure': 53, 'runny_nose': 54, 'congestion': 55, 'chest_pain': 56, 'weakness_in_limbs': 57, 'fast_heart_rate': 58, 'pain_during_bowel_movements': 59, 'pain_in_anal_region': 60, 'bloody_stool': 61, 'irritation_in_anus': 62, 'neck_pain': 63, 'dizziness': 64, 'cramps': 65, 'bruising': 66, 'obesity': 67, 'swollen_legs': 68, 'swollen_blood_vessels': 69, 'puffy_face_and_eyes': 70, 'enlarged_thyroid': 71, 'brittle_nails': 72, 'swollen_extremeties': 73, 'excessive_hunger': 74, 'extra_marital_contacts': 75, 'drying_and_tingling_lips': 76, 'slurred_speech': 77, 'knee_pain': 78, 'hip_joint_pain': 79, 'muscle_weakness': 80, 'stiff_neck': 81, 'swelling_joints': 82, 'movement_stiffness': 83, 'spinning_movements': 84, 'loss_of_balance': 85, 'unsteadiness': 86, 'weakness_of_one_body_side': 87, 'loss_of_smell': 88, 'bladder_discomfort': 89, 'foul_smell_of urine': 90, 'continuous_feel_of_urine': 91, 'passage_of_gases': 92, 'internal_itching': 93, 'toxic_look_(typhos)': 94, 'depression': 95, 'irritability': 96, 'muscle_pain': 97, 'altered_sensorium': 98, 'red_spots_over_body': 99, 'belly_pain': 100, 'abnormal_menstruation': 101, 'dischromic _patches': 102, 'watering_from_eyes': 103, 'increased_appetite': 104, 'polyuria': 105, 'family_history': 106, 'mucoid_sputum': 107, 'rusty_sputum': 108, 'lack_of_concentration': 109, 'visual_disturbances': 110, 'receiving_blood_transfusion': 111, 'receiving_unsterile_injections': 112, 'coma': 113, 'stomach_bleeding': 114, 'distention_of_abdomen': 115, 'history_of_alcohol_consumption': 116, 'fluid_overload.1': 117, 'blood_in_sputum': 118, 'prominent_veins_on_calf': 119, 'palpitations': 120, 'painful_walking': 121, 'pus_filled_pimples': 122, 'blackheads': 123, 'scurring': 124, 'skin_peeling': 125, 'silver_like_dusting': 126, 'small_dents_in_nails': 127, 'inflammatory_nails': 128, 'blister': 129, 'red_sore_around_nose': 130, 'yellow_crust_ooze': 131}\n",
    "diseases_list = {15: 'Fungal infection', 4: 'Allergy', 16: 'GERD', 9: 'Chronic cholestasis', 14: 'Drug Reaction', 33: 'Peptic ulcer diseae', 1: 'AIDS', 12: 'Diabetes ', 17: 'Gastroenteritis', 6: 'Bronchial Asthma', 23: 'Hypertension ', 30: 'Migraine', 7: 'Cervical spondylosis', 32: 'Paralysis (brain hemorrhage)', 28: 'Jaundice', 29: 'Malaria', 8: 'Chicken pox', 11: 'Dengue', 37: 'Typhoid', 40: 'hepatitis A', 19: 'Hepatitis B', 20: 'Hepatitis C', 21: 'Hepatitis D', 22: 'Hepatitis E', 3: 'Alcoholic hepatitis', 36: 'Tuberculosis', 10: 'Common Cold', 34: 'Pneumonia', 13: 'Dimorphic hemmorhoids(piles)', 18: 'Heart attack', 39: 'Varicose veins', 26: 'Hypothyroidism', 24: 'Hyperthyroidism', 25: 'Hypoglycemia', 31: 'Osteoarthristis', 5: 'Arthritis', 0: '(vertigo) Paroymsal  Positional Vertigo', 2: 'Acne', 38: 'Urinary tract infection', 35: 'Psoriasis', 27: 'Impetigo'}\n",
    "\n",
    "# Model Prediction function\n",
    "def get_predicted_value(patient_symptoms):\n",
    "    input_vector = np.zeros(len(symptoms_dict))\n",
    "    for item in patient_symptoms:\n",
    "        input_vector[symptoms_dict[item]] = 1\n",
    "    return diseases_list[svc.predict([input_vector])[0]]"
   ],
   "outputs": []
  },
  {
   "cell_type": "code",
   "execution_count": 77,
   "id": "576cdeb0-9d9b-45ec-ba19-b8e812be8d35",
   "metadata": {},
   "source": [
    "#test 1:\n",
    "symptoms=input(\"Enter your symptoms>>>>\")\n",
    "user_symptoms=[s.strip() for s in symptoms.split(',')]\n",
    "[sym.strip(\"[]' \") for sym in user_symptoms]\n",
    "predicted_disease=get_predicted_value(user_symptoms)\n",
    "desc, pre, med, die, wrkout = helper(predicted_disease)\n"
   ],
   "outputs": []
  },
  {
   "cell_type": "code",
   "execution_count": 62,
   "id": "607ef38d-b16a-41c3-b9b2-ab2b0842498e",
   "metadata": {},
   "source": [
    "predicted_disease"
   ],
   "outputs": []
  },
  {
   "cell_type": "code",
   "execution_count": 71,
   "id": "83e7f98a-a9f6-449c-a90f-645e4ca4b924",
   "metadata": {},
   "source": [
    "descr=description[description['Disease']==predicted_disease]['Description']\n",
    "descr=' '.join([w for w in descr])\n",
    "pre=precautions[precautions['Disease']==predicted_disease][['Precaution_1','Precaution_2','Precaution_3','Precaution_4',]]\n",
    "pre"
   ],
   "outputs": []
  },
  {
   "cell_type": "code",
   "execution_count": 78,
   "id": "80bebcca-cead-46d8-b949-2c075f3c0be7",
   "metadata": {},
   "source": [
    "import sklearn"
   ],
   "outputs": []
  },
  {
   "cell_type": "code",
   "execution_count": 79,
   "id": "b83fb114-c5ba-41cf-9295-bfe82e214713",
   "metadata": {},
   "source": [
    "print(sklearn.__version__)"
   ],
   "outputs": []
  },
  {
   "cell_type": "code",
   "execution_count": null,
   "id": "d54bbb35-b7c5-489b-80f3-e1b7432fe2e8",
   "metadata": {},
   "source": [],
   "outputs": []
  }
 ],
 "metadata": {
  "kernelspec": {
   "display_name": "Python 3 (ipykernel)",
   "language": "python",
   "name": "python3"
  },
  "language_info": {
   "codemirror_mode": {
    "name": "ipython",
    "version": 3
   },
   "file_extension": ".py",
   "mimetype": "text/x-python",
   "name": "python",
   "nbconvert_exporter": "python",
   "pygments_lexer": "ipython3",
   "version": "3.12.3"
  }
 },
 "nbformat": 4,
 "nbformat_minor": 5
}
